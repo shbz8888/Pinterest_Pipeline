{
 "cells": [
  {
   "cell_type": "code",
   "execution_count": 1,
   "metadata": {},
   "outputs": [
    {
     "name": "stdout",
     "output_type": "stream",
     "text": [
      "{BrokerMetadata(nodeId='bootstrap-0', host='localhost', port=9092, rack=None)}\n",
      "True\n",
      "(2, 5, 0)\n"
     ]
    }
   ],
   "source": [
    "from kafka import KafkaClient\n",
    "from kafka.cluster import ClusterMetadata\n",
    "\n",
    "# Create a connection to retrieve metadata\n",
    "meta_cluster_conn = ClusterMetadata(\n",
    "    bootstrap_servers=\"localhost:9092\", # Specific the broker address to connect to\n",
    ")\n",
    "\n",
    "# retrieve metadata about the cluster\n",
    "print(meta_cluster_conn.brokers())\n",
    "\n",
    "\n",
    "# Create a connection to our KafkaBroker to check if it is running\n",
    "client_conn = KafkaClient(\n",
    "    bootstrap_servers=\"localhost:9092\", # Specific the broker address to connect to\n",
    "    client_id=\"Broker test\" # Create an id from this client for reference\n",
    ")\n",
    "\n",
    "# Check that the server is connected and running\n",
    "print(client_conn.bootstrap_connected())\n",
    "# Check our Kafka version number\n",
    "print(client_conn.check_version())"
   ]
  },
  {
   "cell_type": "code",
   "execution_count": 10,
   "metadata": {},
   "outputs": [
    {
     "data": {
      "text/plain": [
       "CreateTopicsResponse_v3(throttle_time_ms=0, topic_errors=[(topic='MyFourthKafKaTopic', error_code=0, error_message=None)])"
      ]
     },
     "execution_count": 10,
     "metadata": {},
     "output_type": "execute_result"
    }
   ],
   "source": [
    "from kafka import KafkaAdminClient\n",
    "from kafka.admin import NewTopic\n",
    "from kafka.cluster import ClusterMetadata\n",
    "\n",
    "# Create a new Kafka client to adminstrate our Kafka broker\n",
    "admin_client = KafkaAdminClient(\n",
    "    bootstrap_servers=\"localhost:9092\", \n",
    "    client_id=\"Kafka Administrator\"\n",
    ")\n",
    "\n",
    "# topics must be pass as a list to the create_topics method\n",
    "topics = []\n",
    "topics.append(NewTopic(name=\"MyFourthKafKaTopic\", num_partitions=1, replication_factor=1))\n",
    "\n",
    "# Topics to create must be passed as a list\n",
    "admin_client.create_topics(new_topics=topics)\n"
   ]
  },
  {
   "cell_type": "code",
   "execution_count": 5,
   "metadata": {},
   "outputs": [
    {
     "data": {
      "text/plain": [
       "['MySecondKafKaTopic',\n",
       " 'MyFourthKafKaTopic',\n",
       " 'MyFirstKafKaTopic',\n",
       " 'MyFixedKafKaTopic']"
      ]
     },
     "execution_count": 5,
     "metadata": {},
     "output_type": "execute_result"
    }
   ],
   "source": [
    "import kafka\n",
    "from kafka import KafkaAdminClient\n",
    "from kafka.admin import NewTopic\n",
    "from kafka.cluster import ClusterMetadata\n",
    "from kafka import KafkaClient\n",
    "from kafka.cluster import ClusterMetadata\n",
    "admin_client = KafkaAdminClient(\n",
    "    bootstrap_servers=\"localhost:9092\", \n",
    "    client_id=\"Kafka Administrator\"\n",
    ")\n",
    "admin_client.list_topics()"
   ]
  },
  {
   "cell_type": "code",
   "execution_count": 21,
   "metadata": {},
   "outputs": [
    {
     "data": {
      "text/plain": [
       "[{'error_code': 0,\n",
       "  'topic': 'MyFourthKafkaTopic',\n",
       "  'is_internal': False,\n",
       "  'partitions': [{'error_code': 0,\n",
       "    'partition': 0,\n",
       "    'leader': 0,\n",
       "    'replicas': [0],\n",
       "    'isr': [0],\n",
       "    'offline_replicas': []}]}]"
      ]
     },
     "execution_count": 21,
     "metadata": {},
     "output_type": "execute_result"
    }
   ],
   "source": [
    "admin_client.describe_topics(topics=[\"MyFourthKafkaTopic\"])"
   ]
  },
  {
   "cell_type": "code",
   "execution_count": 1,
   "metadata": {},
   "outputs": [],
   "source": [
    "# Lets create some test data to send using our kafka producer\n",
    "\n",
    "data_set_1 = [\n",
    "    {\n",
    "        \"Item\": \"samsung galaxy note 9\",\n",
    "        \"Price\": \"600\",\n",
    "        \"Quantity\": \"1\"\n",
    "    },\n",
    "    {\n",
    "        \"Item\": \"Harmonic resonator\",\n",
    "        \"Price\": \"excluded\",\n",
    "        \"Quantity\": 1\n",
    "    }\n",
    "]"
   ]
  },
  {
   "cell_type": "code",
   "execution_count": 2,
   "metadata": {},
   "outputs": [],
   "source": [
    "from kafka import KafkaProducer\n",
    "from json import dumps\n",
    "\n",
    "# Configure our producer which will send data to  the topic\n",
    "gamma_producer = KafkaProducer(\n",
    "    bootstrap_servers=\"localhost:9092\",\n",
    "    client_id=\"12/10 producer\",\n",
    "    value_serializer=lambda products: dumps(products).encode(\"ascii\")\n",
    ") \n",
    "\n",
    "\n"
   ]
  },
  {
   "cell_type": "code",
   "execution_count": 3,
   "metadata": {},
   "outputs": [],
   "source": [
    "# Send data to the topic\n",
    "\n",
    "from kafka import KafkaProducer\n",
    "for products in data_set_1:\n",
    "    gamma_producer.send(topic=\"MyFirstKafkaTopic\", value=products)\n",
    "\n",
    "\n"
   ]
  },
  {
   "cell_type": "code",
   "execution_count": 36,
   "metadata": {},
   "outputs": [],
   "source": [
    "from kafka import KafkaConsumer\n",
    "from json import loads\n",
    "\n",
    "# create our consumer to retrieve the message from the topics\n",
    "data_stream_consumer = KafkaConsumer(\n",
    "    bootstrap_servers=\"localhost:9092\",    \n",
    "    value_deserializer=lambda message: loads(message),\n",
    "    auto_offset_reset=\"earliest\" # This value ensures the messages are read from the beginning \n",
    ")\n",
    "\n",
    "data_stream_consumer.subscribe(topics=[\"MLData\", \"Retaildata\"])"
   ]
  },
  {
   "cell_type": "code",
   "execution_count": 37,
   "metadata": {},
   "outputs": [
    {
     "name": "stdout",
     "output_type": "stream",
     "text": [
      "{'Model_name': 'ResNet-50', 'Accuracy': '92.1', 'Framework_used': 'Pytorch'}\n",
      "1663863993874\n",
      "MLData\n",
      "{'Model_name': 'Random Forest', 'Accuracy': '82.7', 'Framework_used': 'SKLearn'}\n",
      "1663863993874\n",
      "MLData\n",
      "{'Model_name': 'ResNet-50', 'Accuracy': '92.1', 'Framework_used': 'Pytorch'}\n",
      "1663865486923\n",
      "MLData\n",
      "{'Model_name': 'Random Forest', 'Accuracy': '82.7', 'Framework_used': 'SKLearn'}\n",
      "1663865486926\n",
      "MLData\n",
      "{'Model_name': 'ResNet-50', 'Accuracy': '92.1', 'Framework_used': 'Pytorch'}\n",
      "1663865489093\n",
      "MLData\n",
      "{'Model_name': 'Random Forest', 'Accuracy': '82.7', 'Framework_used': 'SKLearn'}\n",
      "1663865489093\n",
      "MLData\n",
      "{'Model_name': 'ResNet-50', 'Accuracy': '92.1', 'Framework_used': 'Pytorch'}\n",
      "1663865489510\n",
      "MLData\n",
      "{'Model_name': 'Random Forest', 'Accuracy': '82.7', 'Framework_used': 'SKLearn'}\n",
      "1663865489513\n",
      "MLData\n",
      "{'Model_name': 'ResNet-50', 'Accuracy': '92.1', 'Framework_used': 'Pytorch'}\n",
      "1663865490119\n",
      "MLData\n",
      "{'Model_name': 'Random Forest', 'Accuracy': '82.7', 'Framework_used': 'SKLearn'}\n",
      "1663865490123\n",
      "MLData\n",
      "{'Item': '42 LCD TV', 'Price': '209.99', 'Quantity': '1'}\n",
      "1663863993875\n",
      "Retaildata\n",
      "{'Item': 'Large Sofa', 'Price': '259.99', 'Quantity': 2}\n",
      "1663865486929\n",
      "Retaildata\n",
      "{'Item': 'Large Sofa', 'Price': '259.99', 'Quantity': 2}\n",
      "1663865489101\n",
      "Retaildata\n",
      "{'Item': '42 LCD TV', 'Price': '209.99', 'Quantity': '1'}\n",
      "1663865489513\n",
      "Retaildata\n",
      "{'Item': '42 LCD TV', 'Price': '209.99', 'Quantity': '1'}\n",
      "1663865490123\n",
      "Retaildata\n",
      "{'Item': 'Large Sofa', 'Price': '259.99', 'Quantity': 2}\n",
      "1663863993875\n",
      "Retaildata\n",
      "{'Item': '42 LCD TV', 'Price': '209.99', 'Quantity': '1'}\n",
      "1663865486927\n",
      "Retaildata\n",
      "{'Item': '42 LCD TV', 'Price': '209.99', 'Quantity': '1'}\n",
      "1663865489094\n",
      "Retaildata\n",
      "{'Item': 'Large Sofa', 'Price': '259.99', 'Quantity': 2}\n",
      "1663865489520\n",
      "Retaildata\n",
      "{'Item': 'Large Sofa', 'Price': '259.99', 'Quantity': 2}\n",
      "1663865490126\n",
      "Retaildata\n"
     ]
    },
    {
     "ename": "KeyboardInterrupt",
     "evalue": "",
     "output_type": "error",
     "traceback": [
      "\u001b[0;31m---------------------------------------------------------------------------\u001b[0m",
      "\u001b[0;31mKeyboardInterrupt\u001b[0m                         Traceback (most recent call last)",
      "\u001b[1;32m/home/shahbaz/Pinterest/Pinterest_App/API/Untitled-1.ipynb Cell 9\u001b[0m in \u001b[0;36m<cell line: 2>\u001b[0;34m()\u001b[0m\n\u001b[1;32m      <a href='vscode-notebook-cell:/home/shahbaz/Pinterest/Pinterest_App/API/Untitled-1.ipynb#X12sZmlsZQ%3D%3D?line=0'>1</a>\u001b[0m \u001b[39m# Loops through all messages in the consumer and prints them out individually\u001b[39;00m\n\u001b[0;32m----> <a href='vscode-notebook-cell:/home/shahbaz/Pinterest/Pinterest_App/API/Untitled-1.ipynb#X12sZmlsZQ%3D%3D?line=1'>2</a>\u001b[0m \u001b[39mfor\u001b[39;00m message \u001b[39min\u001b[39;00m data_stream_consumer:\n\u001b[1;32m      <a href='vscode-notebook-cell:/home/shahbaz/Pinterest/Pinterest_App/API/Untitled-1.ipynb#X12sZmlsZQ%3D%3D?line=2'>3</a>\u001b[0m     \u001b[39mprint\u001b[39m(message\u001b[39m.\u001b[39mvalue)\n\u001b[1;32m      <a href='vscode-notebook-cell:/home/shahbaz/Pinterest/Pinterest_App/API/Untitled-1.ipynb#X12sZmlsZQ%3D%3D?line=3'>4</a>\u001b[0m     \u001b[39mprint\u001b[39m(message\u001b[39m.\u001b[39mtimestamp)\n",
      "File \u001b[0;32m~/.local/lib/python3.10/site-packages/kafka/consumer/group.py:1193\u001b[0m, in \u001b[0;36mKafkaConsumer.__next__\u001b[0;34m(self)\u001b[0m\n\u001b[1;32m   1191\u001b[0m     \u001b[39mreturn\u001b[39;00m \u001b[39mself\u001b[39m\u001b[39m.\u001b[39mnext_v1()\n\u001b[1;32m   1192\u001b[0m \u001b[39melse\u001b[39;00m:\n\u001b[0;32m-> 1193\u001b[0m     \u001b[39mreturn\u001b[39;00m \u001b[39mself\u001b[39;49m\u001b[39m.\u001b[39;49mnext_v2()\n",
      "File \u001b[0;32m~/.local/lib/python3.10/site-packages/kafka/consumer/group.py:1201\u001b[0m, in \u001b[0;36mKafkaConsumer.next_v2\u001b[0;34m(self)\u001b[0m\n\u001b[1;32m   1199\u001b[0m     \u001b[39mself\u001b[39m\u001b[39m.\u001b[39m_iterator \u001b[39m=\u001b[39m \u001b[39mself\u001b[39m\u001b[39m.\u001b[39m_message_generator_v2()\n\u001b[1;32m   1200\u001b[0m \u001b[39mtry\u001b[39;00m:\n\u001b[0;32m-> 1201\u001b[0m     \u001b[39mreturn\u001b[39;00m \u001b[39mnext\u001b[39;49m(\u001b[39mself\u001b[39;49m\u001b[39m.\u001b[39;49m_iterator)\n\u001b[1;32m   1202\u001b[0m \u001b[39mexcept\u001b[39;00m \u001b[39mStopIteration\u001b[39;00m:\n\u001b[1;32m   1203\u001b[0m     \u001b[39mself\u001b[39m\u001b[39m.\u001b[39m_iterator \u001b[39m=\u001b[39m \u001b[39mNone\u001b[39;00m\n",
      "File \u001b[0;32m~/.local/lib/python3.10/site-packages/kafka/consumer/group.py:1116\u001b[0m, in \u001b[0;36mKafkaConsumer._message_generator_v2\u001b[0;34m(self)\u001b[0m\n\u001b[1;32m   1114\u001b[0m \u001b[39mdef\u001b[39;00m \u001b[39m_message_generator_v2\u001b[39m(\u001b[39mself\u001b[39m):\n\u001b[1;32m   1115\u001b[0m     timeout_ms \u001b[39m=\u001b[39m \u001b[39m1000\u001b[39m \u001b[39m*\u001b[39m (\u001b[39mself\u001b[39m\u001b[39m.\u001b[39m_consumer_timeout \u001b[39m-\u001b[39m time\u001b[39m.\u001b[39mtime())\n\u001b[0;32m-> 1116\u001b[0m     record_map \u001b[39m=\u001b[39m \u001b[39mself\u001b[39;49m\u001b[39m.\u001b[39;49mpoll(timeout_ms\u001b[39m=\u001b[39;49mtimeout_ms, update_offsets\u001b[39m=\u001b[39;49m\u001b[39mFalse\u001b[39;49;00m)\n\u001b[1;32m   1117\u001b[0m     \u001b[39mfor\u001b[39;00m tp, records \u001b[39min\u001b[39;00m six\u001b[39m.\u001b[39miteritems(record_map):\n\u001b[1;32m   1118\u001b[0m         \u001b[39m# Generators are stateful, and it is possible that the tp / records\u001b[39;00m\n\u001b[1;32m   1119\u001b[0m         \u001b[39m# here may become stale during iteration -- i.e., we seek to a\u001b[39;00m\n\u001b[1;32m   1120\u001b[0m         \u001b[39m# different offset, pause consumption, or lose assignment.\u001b[39;00m\n\u001b[1;32m   1121\u001b[0m         \u001b[39mfor\u001b[39;00m record \u001b[39min\u001b[39;00m records:\n\u001b[1;32m   1122\u001b[0m             \u001b[39m# is_fetchable(tp) should handle assignment changes and offset\u001b[39;00m\n\u001b[1;32m   1123\u001b[0m             \u001b[39m# resets; for all other changes (e.g., seeks) we'll rely on the\u001b[39;00m\n\u001b[1;32m   1124\u001b[0m             \u001b[39m# outer function destroying the existing iterator/generator\u001b[39;00m\n\u001b[1;32m   1125\u001b[0m             \u001b[39m# via self._iterator = None\u001b[39;00m\n",
      "File \u001b[0;32m~/.local/lib/python3.10/site-packages/kafka/consumer/group.py:655\u001b[0m, in \u001b[0;36mKafkaConsumer.poll\u001b[0;34m(self, timeout_ms, max_records, update_offsets)\u001b[0m\n\u001b[1;32m    653\u001b[0m remaining \u001b[39m=\u001b[39m timeout_ms\n\u001b[1;32m    654\u001b[0m \u001b[39mwhile\u001b[39;00m \u001b[39mTrue\u001b[39;00m:\n\u001b[0;32m--> 655\u001b[0m     records \u001b[39m=\u001b[39m \u001b[39mself\u001b[39;49m\u001b[39m.\u001b[39;49m_poll_once(remaining, max_records, update_offsets\u001b[39m=\u001b[39;49mupdate_offsets)\n\u001b[1;32m    656\u001b[0m     \u001b[39mif\u001b[39;00m records:\n\u001b[1;32m    657\u001b[0m         \u001b[39mreturn\u001b[39;00m records\n",
      "File \u001b[0;32m~/.local/lib/python3.10/site-packages/kafka/consumer/group.py:702\u001b[0m, in \u001b[0;36mKafkaConsumer._poll_once\u001b[0;34m(self, timeout_ms, max_records, update_offsets)\u001b[0m\n\u001b[1;32m    699\u001b[0m     \u001b[39mself\u001b[39m\u001b[39m.\u001b[39m_client\u001b[39m.\u001b[39mpoll(timeout_ms\u001b[39m=\u001b[39m\u001b[39m0\u001b[39m)\n\u001b[1;32m    701\u001b[0m timeout_ms \u001b[39m=\u001b[39m \u001b[39mmin\u001b[39m(timeout_ms, \u001b[39mself\u001b[39m\u001b[39m.\u001b[39m_coordinator\u001b[39m.\u001b[39mtime_to_next_poll() \u001b[39m*\u001b[39m \u001b[39m1000\u001b[39m)\n\u001b[0;32m--> 702\u001b[0m \u001b[39mself\u001b[39;49m\u001b[39m.\u001b[39;49m_client\u001b[39m.\u001b[39;49mpoll(timeout_ms\u001b[39m=\u001b[39;49mtimeout_ms)\n\u001b[1;32m    703\u001b[0m \u001b[39m# after the long poll, we should check whether the group needs to rebalance\u001b[39;00m\n\u001b[1;32m    704\u001b[0m \u001b[39m# prior to returning data so that the group can stabilize faster\u001b[39;00m\n\u001b[1;32m    705\u001b[0m \u001b[39mif\u001b[39;00m \u001b[39mself\u001b[39m\u001b[39m.\u001b[39m_coordinator\u001b[39m.\u001b[39mneed_rejoin():\n",
      "File \u001b[0;32m~/.local/lib/python3.10/site-packages/kafka/client_async.py:602\u001b[0m, in \u001b[0;36mKafkaClient.poll\u001b[0;34m(self, timeout_ms, future)\u001b[0m\n\u001b[1;32m    599\u001b[0m             timeout \u001b[39m=\u001b[39m \u001b[39mmin\u001b[39m(timeout, \u001b[39mself\u001b[39m\u001b[39m.\u001b[39mconfig[\u001b[39m'\u001b[39m\u001b[39mretry_backoff_ms\u001b[39m\u001b[39m'\u001b[39m])\n\u001b[1;32m    600\u001b[0m         timeout \u001b[39m=\u001b[39m \u001b[39mmax\u001b[39m(\u001b[39m0\u001b[39m, timeout)  \u001b[39m# avoid negative timeouts\u001b[39;00m\n\u001b[0;32m--> 602\u001b[0m     \u001b[39mself\u001b[39;49m\u001b[39m.\u001b[39;49m_poll(timeout \u001b[39m/\u001b[39;49m \u001b[39m1000\u001b[39;49m)\n\u001b[1;32m    604\u001b[0m \u001b[39m# called without the lock to avoid deadlock potential\u001b[39;00m\n\u001b[1;32m    605\u001b[0m \u001b[39m# if handlers need to acquire locks\u001b[39;00m\n\u001b[1;32m    606\u001b[0m responses\u001b[39m.\u001b[39mextend(\u001b[39mself\u001b[39m\u001b[39m.\u001b[39m_fire_pending_completed_requests())\n",
      "File \u001b[0;32m~/.local/lib/python3.10/site-packages/kafka/client_async.py:634\u001b[0m, in \u001b[0;36mKafkaClient._poll\u001b[0;34m(self, timeout)\u001b[0m\n\u001b[1;32m    631\u001b[0m \u001b[39mself\u001b[39m\u001b[39m.\u001b[39m_register_send_sockets()\n\u001b[1;32m    633\u001b[0m start_select \u001b[39m=\u001b[39m time\u001b[39m.\u001b[39mtime()\n\u001b[0;32m--> 634\u001b[0m ready \u001b[39m=\u001b[39m \u001b[39mself\u001b[39;49m\u001b[39m.\u001b[39;49m_selector\u001b[39m.\u001b[39;49mselect(timeout)\n\u001b[1;32m    635\u001b[0m end_select \u001b[39m=\u001b[39m time\u001b[39m.\u001b[39mtime()\n\u001b[1;32m    636\u001b[0m \u001b[39mif\u001b[39;00m \u001b[39mself\u001b[39m\u001b[39m.\u001b[39m_sensors:\n",
      "File \u001b[0;32m/usr/lib/python3.10/selectors.py:469\u001b[0m, in \u001b[0;36mEpollSelector.select\u001b[0;34m(self, timeout)\u001b[0m\n\u001b[1;32m    467\u001b[0m ready \u001b[39m=\u001b[39m []\n\u001b[1;32m    468\u001b[0m \u001b[39mtry\u001b[39;00m:\n\u001b[0;32m--> 469\u001b[0m     fd_event_list \u001b[39m=\u001b[39m \u001b[39mself\u001b[39;49m\u001b[39m.\u001b[39;49m_selector\u001b[39m.\u001b[39;49mpoll(timeout, max_ev)\n\u001b[1;32m    470\u001b[0m \u001b[39mexcept\u001b[39;00m \u001b[39mInterruptedError\u001b[39;00m:\n\u001b[1;32m    471\u001b[0m     \u001b[39mreturn\u001b[39;00m ready\n",
      "\u001b[0;31mKeyboardInterrupt\u001b[0m: "
     ]
    }
   ],
   "source": [
    "# Loops through all messages in the consumer and prints them out individually\n",
    "for message in data_stream_consumer:\n",
    "    print(message.value)\n",
    "    print(message.timestamp)\n",
    "    print(message.topic)"
   ]
  },
  {
   "cell_type": "code",
   "execution_count": 35,
   "metadata": {},
   "outputs": [
    {
     "ename": "KeyboardInterrupt",
     "evalue": "",
     "output_type": "error",
     "traceback": [
      "\u001b[0;31m---------------------------------------------------------------------------\u001b[0m",
      "\u001b[0;31mKeyboardInterrupt\u001b[0m                         Traceback (most recent call last)",
      "\u001b[1;32m/home/shahbaz/Pinterest/Pinterest_App/API/Untitled-1.ipynb Cell 10\u001b[0m in \u001b[0;36m<cell line: 1>\u001b[0;34m()\u001b[0m\n\u001b[0;32m----> <a href='vscode-notebook-cell:/home/shahbaz/Pinterest/Pinterest_App/API/Untitled-1.ipynb#X13sZmlsZQ%3D%3D?line=0'>1</a>\u001b[0m \u001b[39mfor\u001b[39;00m message \u001b[39min\u001b[39;00m data_stream_consumer:\n\u001b[1;32m      <a href='vscode-notebook-cell:/home/shahbaz/Pinterest/Pinterest_App/API/Untitled-1.ipynb#X13sZmlsZQ%3D%3D?line=1'>2</a>\u001b[0m     \u001b[39mprint\u001b[39m(message)\n",
      "File \u001b[0;32m~/.local/lib/python3.10/site-packages/kafka/consumer/group.py:1193\u001b[0m, in \u001b[0;36mKafkaConsumer.__next__\u001b[0;34m(self)\u001b[0m\n\u001b[1;32m   1191\u001b[0m     \u001b[39mreturn\u001b[39;00m \u001b[39mself\u001b[39m\u001b[39m.\u001b[39mnext_v1()\n\u001b[1;32m   1192\u001b[0m \u001b[39melse\u001b[39;00m:\n\u001b[0;32m-> 1193\u001b[0m     \u001b[39mreturn\u001b[39;00m \u001b[39mself\u001b[39;49m\u001b[39m.\u001b[39;49mnext_v2()\n",
      "File \u001b[0;32m~/.local/lib/python3.10/site-packages/kafka/consumer/group.py:1201\u001b[0m, in \u001b[0;36mKafkaConsumer.next_v2\u001b[0;34m(self)\u001b[0m\n\u001b[1;32m   1199\u001b[0m     \u001b[39mself\u001b[39m\u001b[39m.\u001b[39m_iterator \u001b[39m=\u001b[39m \u001b[39mself\u001b[39m\u001b[39m.\u001b[39m_message_generator_v2()\n\u001b[1;32m   1200\u001b[0m \u001b[39mtry\u001b[39;00m:\n\u001b[0;32m-> 1201\u001b[0m     \u001b[39mreturn\u001b[39;00m \u001b[39mnext\u001b[39;49m(\u001b[39mself\u001b[39;49m\u001b[39m.\u001b[39;49m_iterator)\n\u001b[1;32m   1202\u001b[0m \u001b[39mexcept\u001b[39;00m \u001b[39mStopIteration\u001b[39;00m:\n\u001b[1;32m   1203\u001b[0m     \u001b[39mself\u001b[39m\u001b[39m.\u001b[39m_iterator \u001b[39m=\u001b[39m \u001b[39mNone\u001b[39;00m\n",
      "File \u001b[0;32m~/.local/lib/python3.10/site-packages/kafka/consumer/group.py:1116\u001b[0m, in \u001b[0;36mKafkaConsumer._message_generator_v2\u001b[0;34m(self)\u001b[0m\n\u001b[1;32m   1114\u001b[0m \u001b[39mdef\u001b[39;00m \u001b[39m_message_generator_v2\u001b[39m(\u001b[39mself\u001b[39m):\n\u001b[1;32m   1115\u001b[0m     timeout_ms \u001b[39m=\u001b[39m \u001b[39m1000\u001b[39m \u001b[39m*\u001b[39m (\u001b[39mself\u001b[39m\u001b[39m.\u001b[39m_consumer_timeout \u001b[39m-\u001b[39m time\u001b[39m.\u001b[39mtime())\n\u001b[0;32m-> 1116\u001b[0m     record_map \u001b[39m=\u001b[39m \u001b[39mself\u001b[39;49m\u001b[39m.\u001b[39;49mpoll(timeout_ms\u001b[39m=\u001b[39;49mtimeout_ms, update_offsets\u001b[39m=\u001b[39;49m\u001b[39mFalse\u001b[39;49;00m)\n\u001b[1;32m   1117\u001b[0m     \u001b[39mfor\u001b[39;00m tp, records \u001b[39min\u001b[39;00m six\u001b[39m.\u001b[39miteritems(record_map):\n\u001b[1;32m   1118\u001b[0m         \u001b[39m# Generators are stateful, and it is possible that the tp / records\u001b[39;00m\n\u001b[1;32m   1119\u001b[0m         \u001b[39m# here may become stale during iteration -- i.e., we seek to a\u001b[39;00m\n\u001b[1;32m   1120\u001b[0m         \u001b[39m# different offset, pause consumption, or lose assignment.\u001b[39;00m\n\u001b[1;32m   1121\u001b[0m         \u001b[39mfor\u001b[39;00m record \u001b[39min\u001b[39;00m records:\n\u001b[1;32m   1122\u001b[0m             \u001b[39m# is_fetchable(tp) should handle assignment changes and offset\u001b[39;00m\n\u001b[1;32m   1123\u001b[0m             \u001b[39m# resets; for all other changes (e.g., seeks) we'll rely on the\u001b[39;00m\n\u001b[1;32m   1124\u001b[0m             \u001b[39m# outer function destroying the existing iterator/generator\u001b[39;00m\n\u001b[1;32m   1125\u001b[0m             \u001b[39m# via self._iterator = None\u001b[39;00m\n",
      "File \u001b[0;32m~/.local/lib/python3.10/site-packages/kafka/consumer/group.py:655\u001b[0m, in \u001b[0;36mKafkaConsumer.poll\u001b[0;34m(self, timeout_ms, max_records, update_offsets)\u001b[0m\n\u001b[1;32m    653\u001b[0m remaining \u001b[39m=\u001b[39m timeout_ms\n\u001b[1;32m    654\u001b[0m \u001b[39mwhile\u001b[39;00m \u001b[39mTrue\u001b[39;00m:\n\u001b[0;32m--> 655\u001b[0m     records \u001b[39m=\u001b[39m \u001b[39mself\u001b[39;49m\u001b[39m.\u001b[39;49m_poll_once(remaining, max_records, update_offsets\u001b[39m=\u001b[39;49mupdate_offsets)\n\u001b[1;32m    656\u001b[0m     \u001b[39mif\u001b[39;00m records:\n\u001b[1;32m    657\u001b[0m         \u001b[39mreturn\u001b[39;00m records\n",
      "File \u001b[0;32m~/.local/lib/python3.10/site-packages/kafka/consumer/group.py:702\u001b[0m, in \u001b[0;36mKafkaConsumer._poll_once\u001b[0;34m(self, timeout_ms, max_records, update_offsets)\u001b[0m\n\u001b[1;32m    699\u001b[0m     \u001b[39mself\u001b[39m\u001b[39m.\u001b[39m_client\u001b[39m.\u001b[39mpoll(timeout_ms\u001b[39m=\u001b[39m\u001b[39m0\u001b[39m)\n\u001b[1;32m    701\u001b[0m timeout_ms \u001b[39m=\u001b[39m \u001b[39mmin\u001b[39m(timeout_ms, \u001b[39mself\u001b[39m\u001b[39m.\u001b[39m_coordinator\u001b[39m.\u001b[39mtime_to_next_poll() \u001b[39m*\u001b[39m \u001b[39m1000\u001b[39m)\n\u001b[0;32m--> 702\u001b[0m \u001b[39mself\u001b[39;49m\u001b[39m.\u001b[39;49m_client\u001b[39m.\u001b[39;49mpoll(timeout_ms\u001b[39m=\u001b[39;49mtimeout_ms)\n\u001b[1;32m    703\u001b[0m \u001b[39m# after the long poll, we should check whether the group needs to rebalance\u001b[39;00m\n\u001b[1;32m    704\u001b[0m \u001b[39m# prior to returning data so that the group can stabilize faster\u001b[39;00m\n\u001b[1;32m    705\u001b[0m \u001b[39mif\u001b[39;00m \u001b[39mself\u001b[39m\u001b[39m.\u001b[39m_coordinator\u001b[39m.\u001b[39mneed_rejoin():\n",
      "File \u001b[0;32m~/.local/lib/python3.10/site-packages/kafka/client_async.py:602\u001b[0m, in \u001b[0;36mKafkaClient.poll\u001b[0;34m(self, timeout_ms, future)\u001b[0m\n\u001b[1;32m    599\u001b[0m             timeout \u001b[39m=\u001b[39m \u001b[39mmin\u001b[39m(timeout, \u001b[39mself\u001b[39m\u001b[39m.\u001b[39mconfig[\u001b[39m'\u001b[39m\u001b[39mretry_backoff_ms\u001b[39m\u001b[39m'\u001b[39m])\n\u001b[1;32m    600\u001b[0m         timeout \u001b[39m=\u001b[39m \u001b[39mmax\u001b[39m(\u001b[39m0\u001b[39m, timeout)  \u001b[39m# avoid negative timeouts\u001b[39;00m\n\u001b[0;32m--> 602\u001b[0m     \u001b[39mself\u001b[39;49m\u001b[39m.\u001b[39;49m_poll(timeout \u001b[39m/\u001b[39;49m \u001b[39m1000\u001b[39;49m)\n\u001b[1;32m    604\u001b[0m \u001b[39m# called without the lock to avoid deadlock potential\u001b[39;00m\n\u001b[1;32m    605\u001b[0m \u001b[39m# if handlers need to acquire locks\u001b[39;00m\n\u001b[1;32m    606\u001b[0m responses\u001b[39m.\u001b[39mextend(\u001b[39mself\u001b[39m\u001b[39m.\u001b[39m_fire_pending_completed_requests())\n",
      "File \u001b[0;32m~/.local/lib/python3.10/site-packages/kafka/client_async.py:634\u001b[0m, in \u001b[0;36mKafkaClient._poll\u001b[0;34m(self, timeout)\u001b[0m\n\u001b[1;32m    631\u001b[0m \u001b[39mself\u001b[39m\u001b[39m.\u001b[39m_register_send_sockets()\n\u001b[1;32m    633\u001b[0m start_select \u001b[39m=\u001b[39m time\u001b[39m.\u001b[39mtime()\n\u001b[0;32m--> 634\u001b[0m ready \u001b[39m=\u001b[39m \u001b[39mself\u001b[39;49m\u001b[39m.\u001b[39;49m_selector\u001b[39m.\u001b[39;49mselect(timeout)\n\u001b[1;32m    635\u001b[0m end_select \u001b[39m=\u001b[39m time\u001b[39m.\u001b[39mtime()\n\u001b[1;32m    636\u001b[0m \u001b[39mif\u001b[39;00m \u001b[39mself\u001b[39m\u001b[39m.\u001b[39m_sensors:\n",
      "File \u001b[0;32m/usr/lib/python3.10/selectors.py:469\u001b[0m, in \u001b[0;36mEpollSelector.select\u001b[0;34m(self, timeout)\u001b[0m\n\u001b[1;32m    467\u001b[0m ready \u001b[39m=\u001b[39m []\n\u001b[1;32m    468\u001b[0m \u001b[39mtry\u001b[39;00m:\n\u001b[0;32m--> 469\u001b[0m     fd_event_list \u001b[39m=\u001b[39m \u001b[39mself\u001b[39;49m\u001b[39m.\u001b[39;49m_selector\u001b[39m.\u001b[39;49mpoll(timeout, max_ev)\n\u001b[1;32m    470\u001b[0m \u001b[39mexcept\u001b[39;00m \u001b[39mInterruptedError\u001b[39;00m:\n\u001b[1;32m    471\u001b[0m     \u001b[39mreturn\u001b[39;00m ready\n",
      "\u001b[0;31mKeyboardInterrupt\u001b[0m: "
     ]
    }
   ],
   "source": [
    "for message in data_stream_consumer:\n",
    "    print(message)\n",
    "    "
   ]
  },
  {
   "cell_type": "code",
   "execution_count": null,
   "metadata": {},
   "outputs": [],
   "source": [
    "import json\n",
    "json.dumps()"
   ]
  },
  {
   "cell_type": "code",
   "execution_count": 6,
   "metadata": {},
   "outputs": [
    {
     "name": "stdout",
     "output_type": "stream",
     "text": [
      "Topic name=MyFirstKafkaTopic,Message={'Item': 'samsung galaxy note 9', 'Price': '600', 'Quantity': '1'}\n",
      "<class 'dict'>\n",
      "{'Item': 'samsung galaxy note 9', 'Price': '600', 'Quantity': '1'}\n",
      "Topic name=MyFirstKafkaTopic,Message={'Item': 'Harmonic resonator', 'Price': 'excluded', 'Quantity': 1}\n",
      "<class 'dict'>\n",
      "{'Item': 'Harmonic resonator', 'Price': 'excluded', 'Quantity': 1}\n"
     ]
    },
    {
     "ename": "KeyboardInterrupt",
     "evalue": "",
     "output_type": "error",
     "traceback": [
      "\u001b[0;31m---------------------------------------------------------------------------\u001b[0m",
      "\u001b[0;31mKeyboardInterrupt\u001b[0m                         Traceback (most recent call last)",
      "\u001b[1;32m/home/shahbaz/Pinterest/Pinterest_App/API/Untitled-1.ipynb Cell 12\u001b[0m in \u001b[0;36m<cell line: 17>\u001b[0;34m()\u001b[0m\n\u001b[1;32m     <a href='vscode-notebook-cell:/home/shahbaz/Pinterest/Pinterest_App/API/Untitled-1.ipynb#X14sZmlsZQ%3D%3D?line=9'>10</a>\u001b[0m data_stream_consumer \u001b[39m=\u001b[39m KafkaConsumer(\n\u001b[1;32m     <a href='vscode-notebook-cell:/home/shahbaz/Pinterest/Pinterest_App/API/Untitled-1.ipynb#X14sZmlsZQ%3D%3D?line=10'>11</a>\u001b[0m     bootstrap_servers\u001b[39m=\u001b[39m\u001b[39m\"\u001b[39m\u001b[39mlocalhost:9092\u001b[39m\u001b[39m\"\u001b[39m,    \n\u001b[1;32m     <a href='vscode-notebook-cell:/home/shahbaz/Pinterest/Pinterest_App/API/Untitled-1.ipynb#X14sZmlsZQ%3D%3D?line=11'>12</a>\u001b[0m     value_deserializer\u001b[39m=\u001b[39m\u001b[39mlambda\u001b[39;00m message: loads(message),\n\u001b[1;32m     <a href='vscode-notebook-cell:/home/shahbaz/Pinterest/Pinterest_App/API/Untitled-1.ipynb#X14sZmlsZQ%3D%3D?line=12'>13</a>\u001b[0m     auto_offset_reset\u001b[39m=\u001b[39m\u001b[39m\"\u001b[39m\u001b[39mearliest\u001b[39m\u001b[39m\"\u001b[39m \u001b[39m# This value ensures the messages are read from the beginning \u001b[39;00m\n\u001b[1;32m     <a href='vscode-notebook-cell:/home/shahbaz/Pinterest/Pinterest_App/API/Untitled-1.ipynb#X14sZmlsZQ%3D%3D?line=13'>14</a>\u001b[0m )\n\u001b[1;32m     <a href='vscode-notebook-cell:/home/shahbaz/Pinterest/Pinterest_App/API/Untitled-1.ipynb#X14sZmlsZQ%3D%3D?line=15'>16</a>\u001b[0m data_stream_consumer\u001b[39m.\u001b[39msubscribe(topics\u001b[39m=\u001b[39m[\u001b[39m\"\u001b[39m\u001b[39mMyFirstKafkaTopic\u001b[39m\u001b[39m\"\u001b[39m])\n\u001b[0;32m---> <a href='vscode-notebook-cell:/home/shahbaz/Pinterest/Pinterest_App/API/Untitled-1.ipynb#X14sZmlsZQ%3D%3D?line=16'>17</a>\u001b[0m \u001b[39mfor\u001b[39;00m msg \u001b[39min\u001b[39;00m data_stream_consumer:\n\u001b[1;32m     <a href='vscode-notebook-cell:/home/shahbaz/Pinterest/Pinterest_App/API/Untitled-1.ipynb#X14sZmlsZQ%3D%3D?line=17'>18</a>\u001b[0m     \u001b[39mprint\u001b[39m(\u001b[39m\"\u001b[39m\u001b[39mTopic name=\u001b[39m\u001b[39m%s\u001b[39;00m\u001b[39m,Message=\u001b[39m\u001b[39m%s\u001b[39;00m\u001b[39m\"\u001b[39m\u001b[39m%\u001b[39m(msg\u001b[39m.\u001b[39mtopic,msg\u001b[39m.\u001b[39mvalue))\n\u001b[1;32m     <a href='vscode-notebook-cell:/home/shahbaz/Pinterest/Pinterest_App/API/Untitled-1.ipynb#X14sZmlsZQ%3D%3D?line=18'>19</a>\u001b[0m     \u001b[39mprint\u001b[39m(\u001b[39mtype\u001b[39m(msg\u001b[39m.\u001b[39mvalue))\n",
      "File \u001b[0;32m~/.local/lib/python3.10/site-packages/kafka/consumer/group.py:1193\u001b[0m, in \u001b[0;36mKafkaConsumer.__next__\u001b[0;34m(self)\u001b[0m\n\u001b[1;32m   1191\u001b[0m     \u001b[39mreturn\u001b[39;00m \u001b[39mself\u001b[39m\u001b[39m.\u001b[39mnext_v1()\n\u001b[1;32m   1192\u001b[0m \u001b[39melse\u001b[39;00m:\n\u001b[0;32m-> 1193\u001b[0m     \u001b[39mreturn\u001b[39;00m \u001b[39mself\u001b[39;49m\u001b[39m.\u001b[39;49mnext_v2()\n",
      "File \u001b[0;32m~/.local/lib/python3.10/site-packages/kafka/consumer/group.py:1201\u001b[0m, in \u001b[0;36mKafkaConsumer.next_v2\u001b[0;34m(self)\u001b[0m\n\u001b[1;32m   1199\u001b[0m     \u001b[39mself\u001b[39m\u001b[39m.\u001b[39m_iterator \u001b[39m=\u001b[39m \u001b[39mself\u001b[39m\u001b[39m.\u001b[39m_message_generator_v2()\n\u001b[1;32m   1200\u001b[0m \u001b[39mtry\u001b[39;00m:\n\u001b[0;32m-> 1201\u001b[0m     \u001b[39mreturn\u001b[39;00m \u001b[39mnext\u001b[39;49m(\u001b[39mself\u001b[39;49m\u001b[39m.\u001b[39;49m_iterator)\n\u001b[1;32m   1202\u001b[0m \u001b[39mexcept\u001b[39;00m \u001b[39mStopIteration\u001b[39;00m:\n\u001b[1;32m   1203\u001b[0m     \u001b[39mself\u001b[39m\u001b[39m.\u001b[39m_iterator \u001b[39m=\u001b[39m \u001b[39mNone\u001b[39;00m\n",
      "File \u001b[0;32m~/.local/lib/python3.10/site-packages/kafka/consumer/group.py:1116\u001b[0m, in \u001b[0;36mKafkaConsumer._message_generator_v2\u001b[0;34m(self)\u001b[0m\n\u001b[1;32m   1114\u001b[0m \u001b[39mdef\u001b[39;00m \u001b[39m_message_generator_v2\u001b[39m(\u001b[39mself\u001b[39m):\n\u001b[1;32m   1115\u001b[0m     timeout_ms \u001b[39m=\u001b[39m \u001b[39m1000\u001b[39m \u001b[39m*\u001b[39m (\u001b[39mself\u001b[39m\u001b[39m.\u001b[39m_consumer_timeout \u001b[39m-\u001b[39m time\u001b[39m.\u001b[39mtime())\n\u001b[0;32m-> 1116\u001b[0m     record_map \u001b[39m=\u001b[39m \u001b[39mself\u001b[39;49m\u001b[39m.\u001b[39;49mpoll(timeout_ms\u001b[39m=\u001b[39;49mtimeout_ms, update_offsets\u001b[39m=\u001b[39;49m\u001b[39mFalse\u001b[39;49;00m)\n\u001b[1;32m   1117\u001b[0m     \u001b[39mfor\u001b[39;00m tp, records \u001b[39min\u001b[39;00m six\u001b[39m.\u001b[39miteritems(record_map):\n\u001b[1;32m   1118\u001b[0m         \u001b[39m# Generators are stateful, and it is possible that the tp / records\u001b[39;00m\n\u001b[1;32m   1119\u001b[0m         \u001b[39m# here may become stale during iteration -- i.e., we seek to a\u001b[39;00m\n\u001b[1;32m   1120\u001b[0m         \u001b[39m# different offset, pause consumption, or lose assignment.\u001b[39;00m\n\u001b[1;32m   1121\u001b[0m         \u001b[39mfor\u001b[39;00m record \u001b[39min\u001b[39;00m records:\n\u001b[1;32m   1122\u001b[0m             \u001b[39m# is_fetchable(tp) should handle assignment changes and offset\u001b[39;00m\n\u001b[1;32m   1123\u001b[0m             \u001b[39m# resets; for all other changes (e.g., seeks) we'll rely on the\u001b[39;00m\n\u001b[1;32m   1124\u001b[0m             \u001b[39m# outer function destroying the existing iterator/generator\u001b[39;00m\n\u001b[1;32m   1125\u001b[0m             \u001b[39m# via self._iterator = None\u001b[39;00m\n",
      "File \u001b[0;32m~/.local/lib/python3.10/site-packages/kafka/consumer/group.py:655\u001b[0m, in \u001b[0;36mKafkaConsumer.poll\u001b[0;34m(self, timeout_ms, max_records, update_offsets)\u001b[0m\n\u001b[1;32m    653\u001b[0m remaining \u001b[39m=\u001b[39m timeout_ms\n\u001b[1;32m    654\u001b[0m \u001b[39mwhile\u001b[39;00m \u001b[39mTrue\u001b[39;00m:\n\u001b[0;32m--> 655\u001b[0m     records \u001b[39m=\u001b[39m \u001b[39mself\u001b[39;49m\u001b[39m.\u001b[39;49m_poll_once(remaining, max_records, update_offsets\u001b[39m=\u001b[39;49mupdate_offsets)\n\u001b[1;32m    656\u001b[0m     \u001b[39mif\u001b[39;00m records:\n\u001b[1;32m    657\u001b[0m         \u001b[39mreturn\u001b[39;00m records\n",
      "File \u001b[0;32m~/.local/lib/python3.10/site-packages/kafka/consumer/group.py:702\u001b[0m, in \u001b[0;36mKafkaConsumer._poll_once\u001b[0;34m(self, timeout_ms, max_records, update_offsets)\u001b[0m\n\u001b[1;32m    699\u001b[0m     \u001b[39mself\u001b[39m\u001b[39m.\u001b[39m_client\u001b[39m.\u001b[39mpoll(timeout_ms\u001b[39m=\u001b[39m\u001b[39m0\u001b[39m)\n\u001b[1;32m    701\u001b[0m timeout_ms \u001b[39m=\u001b[39m \u001b[39mmin\u001b[39m(timeout_ms, \u001b[39mself\u001b[39m\u001b[39m.\u001b[39m_coordinator\u001b[39m.\u001b[39mtime_to_next_poll() \u001b[39m*\u001b[39m \u001b[39m1000\u001b[39m)\n\u001b[0;32m--> 702\u001b[0m \u001b[39mself\u001b[39;49m\u001b[39m.\u001b[39;49m_client\u001b[39m.\u001b[39;49mpoll(timeout_ms\u001b[39m=\u001b[39;49mtimeout_ms)\n\u001b[1;32m    703\u001b[0m \u001b[39m# after the long poll, we should check whether the group needs to rebalance\u001b[39;00m\n\u001b[1;32m    704\u001b[0m \u001b[39m# prior to returning data so that the group can stabilize faster\u001b[39;00m\n\u001b[1;32m    705\u001b[0m \u001b[39mif\u001b[39;00m \u001b[39mself\u001b[39m\u001b[39m.\u001b[39m_coordinator\u001b[39m.\u001b[39mneed_rejoin():\n",
      "File \u001b[0;32m~/.local/lib/python3.10/site-packages/kafka/client_async.py:602\u001b[0m, in \u001b[0;36mKafkaClient.poll\u001b[0;34m(self, timeout_ms, future)\u001b[0m\n\u001b[1;32m    599\u001b[0m             timeout \u001b[39m=\u001b[39m \u001b[39mmin\u001b[39m(timeout, \u001b[39mself\u001b[39m\u001b[39m.\u001b[39mconfig[\u001b[39m'\u001b[39m\u001b[39mretry_backoff_ms\u001b[39m\u001b[39m'\u001b[39m])\n\u001b[1;32m    600\u001b[0m         timeout \u001b[39m=\u001b[39m \u001b[39mmax\u001b[39m(\u001b[39m0\u001b[39m, timeout)  \u001b[39m# avoid negative timeouts\u001b[39;00m\n\u001b[0;32m--> 602\u001b[0m     \u001b[39mself\u001b[39;49m\u001b[39m.\u001b[39;49m_poll(timeout \u001b[39m/\u001b[39;49m \u001b[39m1000\u001b[39;49m)\n\u001b[1;32m    604\u001b[0m \u001b[39m# called without the lock to avoid deadlock potential\u001b[39;00m\n\u001b[1;32m    605\u001b[0m \u001b[39m# if handlers need to acquire locks\u001b[39;00m\n\u001b[1;32m    606\u001b[0m responses\u001b[39m.\u001b[39mextend(\u001b[39mself\u001b[39m\u001b[39m.\u001b[39m_fire_pending_completed_requests())\n",
      "File \u001b[0;32m~/.local/lib/python3.10/site-packages/kafka/client_async.py:634\u001b[0m, in \u001b[0;36mKafkaClient._poll\u001b[0;34m(self, timeout)\u001b[0m\n\u001b[1;32m    631\u001b[0m \u001b[39mself\u001b[39m\u001b[39m.\u001b[39m_register_send_sockets()\n\u001b[1;32m    633\u001b[0m start_select \u001b[39m=\u001b[39m time\u001b[39m.\u001b[39mtime()\n\u001b[0;32m--> 634\u001b[0m ready \u001b[39m=\u001b[39m \u001b[39mself\u001b[39;49m\u001b[39m.\u001b[39;49m_selector\u001b[39m.\u001b[39;49mselect(timeout)\n\u001b[1;32m    635\u001b[0m end_select \u001b[39m=\u001b[39m time\u001b[39m.\u001b[39mtime()\n\u001b[1;32m    636\u001b[0m \u001b[39mif\u001b[39;00m \u001b[39mself\u001b[39m\u001b[39m.\u001b[39m_sensors:\n",
      "File \u001b[0;32m/usr/lib/python3.10/selectors.py:469\u001b[0m, in \u001b[0;36mEpollSelector.select\u001b[0;34m(self, timeout)\u001b[0m\n\u001b[1;32m    467\u001b[0m ready \u001b[39m=\u001b[39m []\n\u001b[1;32m    468\u001b[0m \u001b[39mtry\u001b[39;00m:\n\u001b[0;32m--> 469\u001b[0m     fd_event_list \u001b[39m=\u001b[39m \u001b[39mself\u001b[39;49m\u001b[39m.\u001b[39;49m_selector\u001b[39m.\u001b[39;49mpoll(timeout, max_ev)\n\u001b[1;32m    470\u001b[0m \u001b[39mexcept\u001b[39;00m \u001b[39mInterruptedError\u001b[39;00m:\n\u001b[1;32m    471\u001b[0m     \u001b[39mreturn\u001b[39;00m ready\n",
      "\u001b[0;31mKeyboardInterrupt\u001b[0m: "
     ]
    }
   ],
   "source": [
    "from kafka import KafkaConsumer\n",
    "import json\n",
    "from json import loads\n",
    "import boto3\n",
    "import tempfile\n",
    "s3_client = boto3.client('s3')\n",
    "s3 = boto3.resource('s3')\n",
    "\n",
    "# create our consumer to retrieve the message from the topics\n",
    "data_stream_consumer = KafkaConsumer(\n",
    "    bootstrap_servers=\"localhost:9092\",    \n",
    "    value_deserializer=lambda message: loads(message),\n",
    "    auto_offset_reset=\"earliest\" # This value ensures the messages are read from the beginning \n",
    ")\n",
    "\n",
    "data_stream_consumer.subscribe(topics=[\"MyFirstKafkaTopic\"])\n",
    "for msg in data_stream_consumer:\n",
    "    print(\"Topic name=%s,Message=%s\"%(msg.topic,msg.value))\n",
    "    print(type(msg.value))\n",
    "    print(msg.value)\n",
    "    file = json.dumps(msg.value)\n",
    "    #s3.upload_fileobj(file, 'pinterestdata7b8c2d40-08c6-4eb4-8c96-2f0080c4653b', msg.value['Item'])\n",
    "    s3_client.put_object(\n",
    "     Body=file,\n",
    "     Bucket='pinterestdata7b8c2d40-08c6-4eb4-8c96-2f0080c4653b',\n",
    "     Key= msg.value['Item']\n",
    "    )"
   ]
  },
  {
   "cell_type": "code",
   "execution_count": 1,
   "metadata": {},
   "outputs": [],
   "source": [
    "import findspark\n",
    "\n",
    "findspark.init()"
   ]
  },
  {
   "cell_type": "code",
   "execution_count": null,
   "metadata": {},
   "outputs": [],
   "source": [
    "import configparser\n",
    "import findspark\n",
    "import os\n",
    "config = configparser.ConfigParser()\n",
    "config.read(os.path.expanduser(\"~/.aws/credentials\"))\n",
    "access_id = config.get(aws_profile, \"aws_access_key_id\") \n",
    "access_key = config.get(aws_profile, \"aws_secret_access_key\")"
   ]
  },
  {
   "cell_type": "code",
   "execution_count": 2,
   "metadata": {},
   "outputs": [
    {
     "data": {
      "text/plain": [
       "''"
      ]
     },
     "execution_count": 2,
     "metadata": {},
     "output_type": "execute_result"
    }
   ],
   "source": [
    "sc.stop()"
   ]
  },
  {
   "cell_type": "code",
   "execution_count": 4,
   "metadata": {},
   "outputs": [
    {
     "name": "stdout",
     "output_type": "stream",
     "text": [
      "+--------------+--------------------+--------------------+--------------------+--------------------+---------------+\n",
      "|      category|           unique_id|               title|         description|            tag_list| follower_count|\n",
      "+--------------+--------------------+--------------------+--------------------+--------------------+---------------+\n",
      "|     education|21b59ba9-829d-4c3...|Podcasts for Teac...|Podcasts for Teac...|Middle School Cla...|            25k|\n",
      "|       finance|8fb2af68-543b-463...|Dave Ramsey's 7 B...|If you love budge...|Financial Peace,F...|            26k|\n",
      "|event-planning|b75b6f87-deb3-444...|The Vault: Curate...|Sacramento Califo...|60th Anniversary ...|             6M|\n",
      "|       finance|1e1f0c8b-9fcf-460...|Island Oasis Coup...|Description Coupo...|Grocery Items,Gro...|              0|\n",
      "|diy-and-crafts|52fa3af5-24a4-4cc...|UFO Paper Plate C...|A fun space activ...|Paper Plate Craft...|           192k|\n",
      "|diy-and-crafts|9bf39437-42a6-4f0...|25 Super Fun Summ...|Keep the kids bus...|Summer Crafts For...|           124k|\n",
      "|       tattoos|ea760f71-febf-402...|20 Koi Fish Tatto...|Koi fish tattoos ...|Dr Tattoo,Wörter ...|           211k|\n",
      "|        quotes|5b6d0913-25e4-43a...|The #1 Reason You...|#lovequotes #matc...|Wise Quotes,Quota...|            51k|\n",
      "|        beauty|44662045-e891-482...|Liquid Lash Exten...|Instantly create ...|N,o, ,T,a,g,s, ,A...|            43k|\n",
      "|      vehicles|c4bd2577-a7bb-440...|           TireBuyer|  Nissan GT-R. Sick.|Lowrider,Old Vint...|            437|\n",
      "|  mens-fashion|fbe53c66-3442-477...|No Title Data Ava...|No description av...|N,o, ,T,a,g,s, ,A...|User Info Error|\n",
      "+--------------+--------------------+--------------------+--------------------+--------------------+---------------+\n",
      "\n",
      "+--------------+--------------------+----------+--------------+--------------------+-----+--------------------+--------------------+--------------------+--------------------+--------------------+\n",
      "|      category|         description|downloaded|follower_count|           image_src|index|   is_image_or_video|       save_location|            tag_list|               title|           unique_id|\n",
      "+--------------+--------------------+----------+--------------+--------------------+-----+--------------------+--------------------+--------------------+--------------------+--------------------+\n",
      "|        beauty|Instantly create ...|         1|         43000|https://i.pinimg....| 1313|               video|Local save in /da...|                None|Liquid Lash Exten...|44662045-e891-482...|\n",
      "|diy-and-crafts|Keep the kids bus...|         1|        124000|https://i.pinimg....| 2863|               image|Local save in /da...|Summer Crafts For...|25 Super Fun Summ...|9bf39437-42a6-4f0...|\n",
      "|diy-and-crafts|A fun space activ...|         1|        192000|https://i.pinimg....| 2923|               image|Local save in /da...|Paper Plate Craft...|UFO Paper Plate C...|52fa3af5-24a4-4cc...|\n",
      "|     education|Podcasts for Teac...|         1|         25000|https://i.pinimg....| 4315|               image|Local save in /da...|Middle School Cla...|Podcasts for Teac...|21b59ba9-829d-4c3...|\n",
      "|event-planning|Sacramento Califo...|         1|       6000000|https://i.pinimg....| 5069|               image|Local save in /da...|60th Anniversary ...|The Vault: Curate...|b75b6f87-deb3-444...|\n",
      "|       finance|Description Coupo...|         1|             0|https://i.pinimg....| 5730|               image|Local save in /da...|Grocery Items,Gro...|Island Oasis Coup...|1e1f0c8b-9fcf-460...|\n",
      "|       finance|If you love budge...|         1|         26000|https://i.pinimg....| 5494|               image|Local save in /da...|Financial Peace,F...|Dave Ramsey's 7 B...|8fb2af68-543b-463...|\n",
      "|  mens-fashion|No description av...|         0|             0|    Image src error.| 7528|multi-video(story...|Local save in /da...|                None|No Title Data Ava...|fbe53c66-3442-477...|\n",
      "|        quotes|#lovequotes #matc...|         1|         51000|https://i.pinimg....| 8304|               image|Local save in /da...|Wise Quotes,Quota...|The #1 Reason You...|5b6d0913-25e4-43a...|\n",
      "|       tattoos|Koi fish tattoos ...|         1|        211000|https://i.pinimg....| 8731|               image|Local save in /da...|Dr Tattoo,Wörter ...|20 Koi Fish Tatto...|ea760f71-febf-402...|\n",
      "|      vehicles|  Nissan GT-R. Sick.|         1|           437|https://i.pinimg....|10794|               image|Local save in /da...|Lowrider,Old Vint...|           TireBuyer|c4bd2577-a7bb-440...|\n",
      "+--------------+--------------------+----------+--------------+--------------------+-----+--------------------+--------------------+--------------------+--------------------+--------------------+\n",
      "\n"
     ]
    }
   ],
   "source": [
    "from pyspark.sql import SparkSession\n",
    "from pyspark import SparkContext, SparkConf\n",
    "import pyspark.sql.functions as f\n",
    "import os \n",
    "import pandas as pd\n",
    "#SparkContext.stop()\n",
    "# Adding the packages required to get data from S3  \n",
    "os.environ[\"PYSPARK_SUBMIT_ARGS\"] = \"--packages com.amazonaws:aws-java-sdk-s3:1.12.196,org.apache.hadoop:hadoop-aws:3.3.1 pyspark-shell\"\n",
    "# Creating our Spark configuration\n",
    "conf = SparkConf() \\\n",
    "    .setAppName('S3toSpark') \\\n",
    "    .setMaster('local[*]')\n",
    "\n",
    "sc=SparkContext.getOrCreate(conf=conf)\n",
    "\n",
    "# Configure the setting to read from the S3 bucket\n",
    "accessKeyId=os.environ[\"AWS_ACCESSKEY_ID\"]\n",
    "secretAccessKey=os.environ[\"AWS_SECRET_KEY\"]\n",
    "hadoopConf = sc._jsc.hadoopConfiguration()\n",
    "hadoopConf.set('fs.s3a.access.key', accessKeyId)\n",
    "hadoopConf.set('fs.s3a.secret.key', secretAccessKey)\n",
    "hadoopConf.set('spark.hadoop.fs.s3a.aws.credentials.provider', 'org.apache.hadoop.fs.s3a.SimpleAWSCredentialsProvider') # Allows the package to authenticate with AWS\n",
    "\n",
    "# Create our Spark session\n",
    "spark=SparkSession(sc)\n",
    "#sc.stop()\n",
    "# Read from the S3 bucket\n",
    "df = spark.read.json(\"s3a://pinterestdata7b8c2d40-08c6-4eb4-8c96-2f0080c4653b/*.json\") # You may want to change this to read csv depending on the files your reading from the bucket\n",
    "df1 = df.select(df[\"category\"],df[\"unique_id\"],df[\"title\"],df[\"description\"],df[\"tag_list\"],df[\"follower_count\"]).show()\n",
    "#df.groupby(\"category\")\n",
    "#s_df.show()\n",
    "spark.conf.set(\"spark.sql.execution.arrow.pyspark.enabled\", \"true\")\n",
    "#pysparkdf = spark.createDataFrame(df1)\n",
    "#df.toPandas()\n",
    "\n",
    "df = df.withColumn('follower_count', f.regexp_replace(\"follower_count\", \"User Info Error\", \"0\"))\n",
    "df = df.withColumn('follower_count', f.regexp_replace(\"follower_count\", \"k\", \"000\"))\n",
    "df = df.withColumn('follower_count', f.regexp_replace(\"follower_count\", \"M\", \"000000\"))\n",
    "df = df.withColumn('follower_count', f.col(\"follower_count\").cast(\"Int\"))\n",
    "df = df.withColumn('tag_list', f.regexp_replace(\"tag_list\", \"N,o, ,T,a,g,s, ,A,v,a,i,l,a,b,l,e\", \"None\"))\n",
    "df = df.sort(\"category\").show()\n"
   ]
  },
  {
   "cell_type": "code",
   "execution_count": 14,
   "metadata": {},
   "outputs": [
    {
     "name": "stdout",
     "output_type": "stream",
     "text": [
      "1\n",
      "2\n",
      "fizz\n",
      "4\n",
      "5\n",
      "fizz\n",
      "7\n",
      "8\n",
      "fizz\n",
      "10\n",
      "11\n",
      "fizz\n",
      "13\n",
      "14\n",
      "fizzbuzz\n",
      "fizz\n",
      "16\n",
      "17\n"
     ]
    }
   ],
   "source": [
    "x = input(\"please enter a number: \")\n",
    "y = int(x)\n",
    "def func(y):\n",
    "    count = 0\n",
    "    while (count <= y):\n",
    "        count +=1\n",
    "        if (count%5) == 0 and (count%3) == 0:\n",
    "            print(\"fizzbuzz\")\n",
    "        if (count%3) == 0:\n",
    "            print(\"fizz\")\n",
    "        else:\n",
    "            print(count)\n",
    "    \n",
    "func(y)\n"
   ]
  },
  {
   "cell_type": "code",
   "execution_count": 3,
   "metadata": {},
   "outputs": [
    {
     "name": "stdout",
     "output_type": "stream",
     "text": [
      "10\n"
     ]
    }
   ],
   "source": [
    "def operateNumber(N1, N2):\n",
    "    if (N1%2) == 0 and (N2%2) == 0:\n",
    "        print(N1+N2)\n",
    "    else:\n",
    "        print(N1*N2)\n",
    "\n",
    "operateNumber(8,2)"
   ]
  },
  {
   "cell_type": "code",
   "execution_count": 6,
   "metadata": {},
   "outputs": [
    {
     "name": "stdout",
     "output_type": "stream",
     "text": [
      "33\n",
      "36\n",
      "37\n"
     ]
    }
   ],
   "source": [
    "def sumOdd(n,Arr):\n",
    "    base = 0\n",
    "    for number in Arr:\n",
    "        if number%2 != 0:\n",
    "            base += number\n",
    "            print(base)\n",
    "        else:\n",
    "            pass\n",
    "\n",
    "sumOdd(5,[33,3,22,1,10])"
   ]
  },
  {
   "cell_type": "code",
   "execution_count": 7,
   "metadata": {},
   "outputs": [
    {
     "name": "stdout",
     "output_type": "stream",
     "text": [
      "1\n",
      "2\n"
     ]
    }
   ],
   "source": [
    "def charinstring(S,c):\n",
    "    count = 0\n",
    "    for character in S:\n",
    "        if character.capitalize() == c.capitalize():\n",
    "            count +=1\n",
    "            print(count)\n",
    "        else:\n",
    "            pass\n",
    "charinstring(\"hello world\",\"o\")"
   ]
  },
  {
   "cell_type": "code",
   "execution_count": 7,
   "metadata": {},
   "outputs": [
    {
     "name": "stdout",
     "output_type": "stream",
     "text": [
      "Yoruichi786\n"
     ]
    }
   ],
   "source": [
    "import os\n",
    "password = os.environ[\"PGADMIN4_PASSWORD\"]\n",
    "print(password)"
   ]
  },
  {
   "cell_type": "code",
   "execution_count": 5,
   "metadata": {},
   "outputs": [
    {
     "ename": "TypeError",
     "evalue": "list indices must be integers or slices, not dict",
     "output_type": "error",
     "traceback": [
      "\u001b[0;31m---------------------------------------------------------------------------\u001b[0m",
      "\u001b[0;31mTypeError\u001b[0m                                 Traceback (most recent call last)",
      "\u001b[1;32m/home/shahbaz/Pinterest/Pinterest_App/API/Untitled-1.ipynb Cell 22\u001b[0m in \u001b[0;36m<cell line: 86>\u001b[0;34m()\u001b[0m\n\u001b[1;32m     <a href='vscode-notebook-cell:/home/shahbaz/Pinterest/Pinterest_App/API/Untitled-1.ipynb#X30sZmlsZQ%3D%3D?line=82'>83</a>\u001b[0m             list_of_dicts[i\u001b[39m-\u001b[39m\u001b[39m1\u001b[39m]\u001b[39m.\u001b[39mappend({\u001b[39m\"\u001b[39m\u001b[39mIP Adress(es)\u001b[39m\u001b[39m\"\u001b[39m:list_of_dicts[i][\u001b[39m\"\u001b[39m\u001b[39mIP Adress(es)\u001b[39m\u001b[39m\"\u001b[39m]})\n\u001b[1;32m     <a href='vscode-notebook-cell:/home/shahbaz/Pinterest/Pinterest_App/API/Untitled-1.ipynb#X30sZmlsZQ%3D%3D?line=83'>84</a>\u001b[0m     \u001b[39mreturn\u001b[39;00m list_of_dicts\n\u001b[0;32m---> <a href='vscode-notebook-cell:/home/shahbaz/Pinterest/Pinterest_App/API/Untitled-1.ipynb#X30sZmlsZQ%3D%3D?line=85'>86</a>\u001b[0m list_of_dicts\u001b[39m=\u001b[39medit_dict(screen_output)\n",
      "\u001b[1;32m/home/shahbaz/Pinterest/Pinterest_App/API/Untitled-1.ipynb Cell 22\u001b[0m in \u001b[0;36medit_dict\u001b[0;34m(screen_output)\u001b[0m\n\u001b[1;32m     <a href='vscode-notebook-cell:/home/shahbaz/Pinterest/Pinterest_App/API/Untitled-1.ipynb#X30sZmlsZQ%3D%3D?line=79'>80</a>\u001b[0m list_of_dicts\u001b[39m=\u001b[39mread_data(screen_output)\n\u001b[1;32m     <a href='vscode-notebook-cell:/home/shahbaz/Pinterest/Pinterest_App/API/Untitled-1.ipynb#X30sZmlsZQ%3D%3D?line=80'>81</a>\u001b[0m \u001b[39mfor\u001b[39;00m i \u001b[39min\u001b[39;00m list_of_dicts:\n\u001b[0;32m---> <a href='vscode-notebook-cell:/home/shahbaz/Pinterest/Pinterest_App/API/Untitled-1.ipynb#X30sZmlsZQ%3D%3D?line=81'>82</a>\u001b[0m     \u001b[39mif\u001b[39;00m list_of_dicts[i][\u001b[39m\"\u001b[39m\u001b[39mInterface\u001b[39m\u001b[39m\"\u001b[39m]\u001b[39m==\u001b[39m\u001b[39m'\u001b[39m\u001b[39m'\u001b[39m:\n\u001b[1;32m     <a href='vscode-notebook-cell:/home/shahbaz/Pinterest/Pinterest_App/API/Untitled-1.ipynb#X30sZmlsZQ%3D%3D?line=82'>83</a>\u001b[0m         list_of_dicts[i\u001b[39m-\u001b[39m\u001b[39m1\u001b[39m]\u001b[39m.\u001b[39mappend({\u001b[39m\"\u001b[39m\u001b[39mIP Adress(es)\u001b[39m\u001b[39m\"\u001b[39m:list_of_dicts[i][\u001b[39m\"\u001b[39m\u001b[39mIP Adress(es)\u001b[39m\u001b[39m\"\u001b[39m]})\n\u001b[1;32m     <a href='vscode-notebook-cell:/home/shahbaz/Pinterest/Pinterest_App/API/Untitled-1.ipynb#X30sZmlsZQ%3D%3D?line=83'>84</a>\u001b[0m \u001b[39mreturn\u001b[39;00m list_of_dicts\n",
      "\u001b[0;31mTypeError\u001b[0m: list indices must be integers or slices, not dict"
     ]
    }
   ],
   "source": [
    "#\n",
    "# screen_output is the output of the cli on a router from the command\n",
    "# \"show interface\" on a router.\n",
    "#\n",
    "# write a python function which takes screen_output as a parameter\n",
    "# and returns an appropriate data structure for the data to be used\n",
    "# by the caller.\n",
    "# When choosing the returned data structure try to think about the\n",
    "# questions a user of the function would want to get from the returned\n",
    "# data.\n",
    "# For example;\n",
    "#    is interface <foo> link state up?\n",
    "#    what speed is interface <foo> using?\n",
    "#    what IP addresses does interface <foo> have?\n",
    "#\n",
    "# Please show how you tested your solution.\n",
    "#\n",
    "#\n",
    "#\n",
    "import re\n",
    "screen_output = \"\"\"\n",
    "vyatta@dut-2:~$ show interfaces\n",
    "Codes: S - State, L - Link, u - Up, D - Down, A - Admin Down\n",
    "Interface       IP Address(es)                    S/L  Speed/Duplex  Description\n",
    "---------       --------------                    ---  ------------  -----------\n",
    "dp0ce0          -                                 u/D  auto/auto\n",
    "dp0ce1          -                                 u/D  auto/auto\n",
    "dp0p7s0         10.156.43.100/24                  u/u  a-1g/a-full   Mgmt Network\n",
    "dp0xe0          -                                 u/u  10g/full\n",
    "dp0xe1          -                                 u/u  10g/full\n",
    "dp0xe11         10.156.21.2/20                    u/u  1g/full\n",
    "dp0xe12         -                                 A/D  auto/auto     link-to-TimeProvider4100-eth4\n",
    "dp0xe13         -                                 u/D  auto/auto\n",
    "lo1             1.1.1.1/32                        u/u  -/-\n",
    "sw0             -                                 u/u  -/-\n",
    "sw0.50          10.0.0.2/30                       u/u  -/-\n",
    "sw0.100         192.168.4.1/24                    u/D  -/-\n",
    "sw0.1001        100.100.0.1/24                    u/u  -/-\n",
    "                100:100::1/64\n",
    "sw0.1002        192.168.1.2/30                    u/u  -/-\n",
    "                192.168.2.2/30\n",
    "                cef:0:4:3:2:1:0:4/128\n",
    "sw0.1026        100.100.8.1/24                    u/u  -/-\n",
    "                100:100:8::1/64\n",
    "sw0.4004        4.4.0.1/24                        u/D  -/-\n",
    "\"\"\"\n",
    "\n",
    "def read_data(screen_output):\n",
    "    lines=screen_output.split(\"\\n\")\n",
    "    #extract=re.compile(r\"././\")\n",
    "    list_of_dicts=[]\n",
    "    dict={}\n",
    "    for idx,line in enumerate(lines[5:-1]):\n",
    "        #print(line[0:8].strip(\" \"))\n",
    "        n=list(re.split(r'\\s+',line))\n",
    "        list_of_dicts.append({\"Interface\":line[0:8].strip(\" \")})\n",
    "        if line[0:8] == '':\n",
    "            list_of_dicts[idx-1].append({\"IP Adress(es)\":n[1]})\n",
    "        \n",
    "        try:\n",
    "            list_of_dicts[idx].update({\"IP Adress(es)\":n[1]})\n",
    "        except:\n",
    "            list_of_dicts[idx].update({\"IP Adress(es)\":' '}) \n",
    "        try:\n",
    "            list_of_dicts[idx].update({\"S/L\":n[2]})\n",
    "        except:\n",
    "            list_of_dicts[idx].update({\"S/L\":''})\n",
    "        try:\n",
    "            list_of_dicts[idx].update({\"Speed/Duplex\":n[3]})\n",
    "        except:\n",
    "            list_of_dicts[idx].update({\"Speed/Duplex\":''})\n",
    "            #v=re.search(r'[ADu]{1}\\/[ADu]{1}',line)\n",
    "            #b=re.match(r'\\S*\\/*',line)\n",
    "            #n=re.split(r'\\s+',line)\n",
    "        \n",
    "    #print(list_of_dicts)\n",
    "    return list_of_dicts\n",
    "\n",
    "def edit_dict(screen_output):\n",
    "    list_of_dicts=read_data(screen_output)\n",
    "    for i in list_of_dicts:\n",
    "        if list_of_dicts[i][\"Interface\"]=='':\n",
    "            list_of_dicts[i-1].append({\"IP Adress(es)\":list_of_dicts[i][\"IP Adress(es)\"]})\n",
    "    return list_of_dicts\n",
    "\n",
    "list_of_dicts=edit_dict(screen_output)\n",
    "\n",
    "\n",
    "    \n",
    " "
   ]
  },
  {
   "cell_type": "code",
   "execution_count": 1,
   "metadata": {},
   "outputs": [
    {
     "name": "stdout",
     "output_type": "stream",
     "text": [
      "4613732\n"
     ]
    }
   ],
   "source": [
    "def fibonacci_sequence(limit):\n",
    "    num1, num2 = 0, 1\n",
    "    while num1 <= limit:\n",
    "        yield num1\n",
    "        num1, num2 = num2, num1 + num2\n",
    "\n",
    "def sum_of_even_fibonacci(limit):\n",
    "    even_sum = 0\n",
    "    count = 0\n",
    "    for num in fibonacci_sequence(limit):\n",
    "        if num % 2 == 0:\n",
    "            even_sum += num\n",
    "            count += 1\n",
    "        if count == 100:\n",
    "            break\n",
    "    return even_sum\n",
    "\n",
    "print(sum_of_even_fibonacci(4000000))"
   ]
  },
  {
   "cell_type": "code",
   "execution_count": 3,
   "metadata": {},
   "outputs": [
    {
     "name": "stdout",
     "output_type": "stream",
     "text": [
      "4613732\n"
     ]
    }
   ],
   "source": [
    "#final\n",
    "def fibonacci(num):\n",
    "    n1,n2=0,1\n",
    "    while n1<=num:\n",
    "        yield n1\n",
    "        n1,n2 = n2,n1+n2\n",
    "\n",
    "def sum_of_even_fib(num):\n",
    "    even_sum = 0 \n",
    "    count = 0\n",
    "    for number in fibonacci(num):\n",
    "        if number % 2 ==0:\n",
    "            even_sum += number\n",
    "            count += 1\n",
    "        if count == 100:\n",
    "            break\n",
    "    return even_sum\n",
    "\n",
    "print(sum_of_even_fib(4000000))\n",
    "#final"
   ]
  },
  {
   "cell_type": "code",
   "execution_count": 5,
   "metadata": {},
   "outputs": [
    {
     "name": "stdout",
     "output_type": "stream",
     "text": [
      "True\n",
      "False\n"
     ]
    }
   ],
   "source": [
    "#final\n",
    "def has_only_even_digits(num):\n",
    "    for increment in str(num):\n",
    "        if int(increment) % 2 != 0:\n",
    "            return False\n",
    "    return True\n",
    "\n",
    "print(has_only_even_digits(2468)) # True\n",
    "print(has_only_even_digits(1357)) # False\n",
    "#final"
   ]
  },
  {
   "cell_type": "code",
   "execution_count": 6,
   "metadata": {},
   "outputs": [
    {
     "name": "stdout",
     "output_type": "stream",
     "text": [
      "11106\n"
     ]
    }
   ],
   "source": [
    "#final\n",
    "def calculate_iter_sum(val):\n",
    "    total = 0\n",
    "    for i in range(1, 5):\n",
    "        total += int(str(val) * i)\n",
    "    return total\n",
    "\n",
    "print(calculate_iter_sum(9)) # 9 + 99 + 999 + 9999 = 11106\n",
    "#final"
   ]
  },
  {
   "cell_type": "code",
   "execution_count": 9,
   "metadata": {},
   "outputs": [
    {
     "name": "stdout",
     "output_type": "stream",
     "text": [
      "{1, 3, 5}\n"
     ]
    },
    {
     "data": {
      "text/plain": [
       "[1, 3, 5]"
      ]
     },
     "execution_count": 9,
     "metadata": {},
     "output_type": "execute_result"
    }
   ],
   "source": [
    "#final\n",
    "def common_member(a, b):\n",
    "    a_set = set(a)\n",
    "    b_set = set(b)\n",
    " \n",
    "    if (a_set & b_set):\n",
    "        print(a_set & b_set)\n",
    "        return list(a_set & b_set)\n",
    "    else:\n",
    "        print(\"No common elements\")\n",
    "\n",
    "a = [1, 2, 3, 4, 5]\n",
    "b = [6, 1, 3, 5]\n",
    "common_member(a, b)\n",
    "#final"
   ]
  },
  {
   "cell_type": "code",
   "execution_count": 7,
   "metadata": {},
   "outputs": [
    {
     "data": {
      "text/plain": [
       "1735071165"
      ]
     },
     "execution_count": 7,
     "metadata": {},
     "output_type": "execute_result"
    }
   ],
   "source": [
    "def num_gen(val,n):\n",
    "    for i in range(1,val+1):\n",
    "        if i%n == 0:\n",
    "            yield i\n",
    "\n",
    "sum(num_gen(102030,3))"
   ]
  },
  {
   "cell_type": "code",
   "execution_count": 14,
   "metadata": {},
   "outputs": [
    {
     "name": "stdout",
     "output_type": "stream",
     "text": [
      "[[]]\n",
      "[[], [1]]\n",
      "[[], [1], [1, 2]]\n",
      "[[], [1], [1, 2], [1, 2, 3]]\n"
     ]
    }
   ],
   "source": [
    "def f(n):\n",
    "    result = []\n",
    "    for i in range(n+1):\n",
    "        result.append([j for j in range(1, i+1)])\n",
    "    return result\n",
    "\n",
    "def list_maker(n):\n",
    "    for i in range(n+1):\n",
    "        print(f(i))\n",
    "\n",
    "list_maker(3)"
   ]
  }
 ],
 "metadata": {
  "kernelspec": {
   "display_name": "Python 3.10.4 64-bit",
   "language": "python",
   "name": "python3"
  },
  "language_info": {
   "codemirror_mode": {
    "name": "ipython",
    "version": 3
   },
   "file_extension": ".py",
   "mimetype": "text/x-python",
   "name": "python",
   "nbconvert_exporter": "python",
   "pygments_lexer": "ipython3",
   "version": "3.10.6"
  },
  "orig_nbformat": 4,
  "vscode": {
   "interpreter": {
    "hash": "916dbcbb3f70747c44a77c7bcd40155683ae19c65e1c03b4aa3499c5328201f1"
   }
  }
 },
 "nbformat": 4,
 "nbformat_minor": 2
}
